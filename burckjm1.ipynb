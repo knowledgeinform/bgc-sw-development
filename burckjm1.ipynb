{
 "cells": [
  {
   "cell_type": "code",
   "execution_count": 17,
   "metadata": {},
   "outputs": [
    {
     "name": "stdout",
     "output_type": "stream",
     "text": [
      "1\n",
      "2\n"
     ]
    },
    {
     "ename": "TypeError",
     "evalue": "f1() missing 1 required positional argument: 'y'",
     "output_type": "error",
     "traceback": [
      "\u001b[1;31m---------------------------------------------------------------------------\u001b[0m",
      "\u001b[1;31mTypeError\u001b[0m                                 Traceback (most recent call last)",
      "Cell \u001b[1;32mIn[17], line 33\u001b[0m\n\u001b[0;32m     30\u001b[0m         \u001b[38;5;28mprint\u001b[39m(y)\n\u001b[0;32m     32\u001b[0m f1(\u001b[38;5;241m1\u001b[39m, \u001b[38;5;241m2\u001b[39m)\n\u001b[1;32m---> 33\u001b[0m \u001b[43mf1\u001b[49m\u001b[43m(\u001b[49m\u001b[38;5;241;43m1\u001b[39;49m\u001b[43m)\u001b[49m\n",
      "\u001b[1;31mTypeError\u001b[0m: f1() missing 1 required positional argument: 'y'"
     ]
    }
   ],
   "source": [
    "import enum\n",
    "from typing import Any, List, Optional, Type\n",
    "\n",
    "\n",
    "class X(enum.Enum):\n",
    "    def __init__(self, address: int, type_: Type, access: str, offset:Optional[int] = None) -> None:\n",
    "        self.address = address\n",
    "        self.type = type_\n",
    "        self.access = access\n",
    "        self.offset = offset\n",
    "\n",
    "    def register_name(self) -> str:\n",
    "        \"\"\"\n",
    "        Enum name split into words with leading caps.\n",
    "        \"\"\"\n",
    "        words = self.name.lower().split(\"_\")\n",
    "        return \" \".join(map(lambda s: s[0].upper() + s[1:], words))\n",
    "\n",
    "    IO_REGISTER_Z_Q_BIN = (3, int, \"rwe\")\n",
    "    Y = (3, float, \"r\")\n",
    "    Z = (3, int, \"rwe\")\n",
    "\n",
    "q = X.IO_REGISTER_Z_Q_BIN\n",
    "(q.name, q.value, q.address, q.register_name())\n"
   ]
  }
 ],
 "metadata": {
  "kernelspec": {
   "display_name": ".venv",
   "language": "python",
   "name": "python3"
  },
  "language_info": {
   "codemirror_mode": {
    "name": "ipython",
    "version": 3
   },
   "file_extension": ".py",
   "mimetype": "text/x-python",
   "name": "python",
   "nbconvert_exporter": "python",
   "pygments_lexer": "ipython3",
   "version": "3.11.4"
  }
 },
 "nbformat": 4,
 "nbformat_minor": 2
}
